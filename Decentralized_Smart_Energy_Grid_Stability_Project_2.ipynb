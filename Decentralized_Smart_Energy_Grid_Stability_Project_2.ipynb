{
  "nbformat": 4,
  "nbformat_minor": 0,
  "metadata": {
    "colab": {
      "name": "Decentralized Smart Energy Grid Stability - Project 2.ipynb",
      "provenance": [],
      "mount_file_id": "1Ti4slknEkSty4SFeVmO_NdSUeEnYJm-T",
      "authorship_tag": "ABX9TyOAdjrutIo8PLOompgb9ij4",
      "include_colab_link": true
    },
    "kernelspec": {
      "name": "python3",
      "display_name": "Python 3"
    },
    "language_info": {
      "name": "python"
    }
  },
  "cells": [
    {
      "cell_type": "markdown",
      "metadata": {
        "id": "view-in-github",
        "colab_type": "text"
      },
      "source": [
        "<a href=\"https://colab.research.google.com/github/Shiromasteven/Project-2/blob/main/Decentralized_Smart_Energy_Grid_Stability_Project_2.ipynb\" target=\"_parent\"><img src=\"https://colab.research.google.com/assets/colab-badge.svg\" alt=\"Open In Colab\"/></a>"
      ]
    },
    {
      "cell_type": "markdown",
      "source": [
        "#Grid Stability - Project 2\n",
        "##Steven Shiroma\n",
        "###Date 7/14/22"
      ],
      "metadata": {
        "id": "XZIa5o8kHN6R"
      }
    },
    {
      "cell_type": "code",
      "execution_count": 23,
      "metadata": {
        "id": "G4HoWOtdG_wr"
      },
      "outputs": [],
      "source": [
        "import pandas as pd\n",
        "import numpy as np\n",
        "import matplotlib.pyplot as plt\n",
        "import seaborn as sns\n",
        "\n",
        "filename = ('/content/drive/MyDrive/Project 2/Data_for_UCI_named.csv')\n",
        "\n",
        "df = pd.read_csv(filename)"
      ]
    },
    {
      "cell_type": "code",
      "source": [
        "df.head()"
      ],
      "metadata": {
        "colab": {
          "base_uri": "https://localhost:8080/",
          "height": 206
        },
        "id": "WxCzKYUiHoWA",
        "outputId": "d8edb364-dea4-4ad3-a164-1b9aba4891ef"
      },
      "execution_count": 24,
      "outputs": [
        {
          "output_type": "execute_result",
          "data": {
            "text/plain": [
              "       tau1      tau2      tau3      tau4        p1        p2        p3  \\\n",
              "0  2.959060  3.079885  8.381025  9.780754  3.763085 -0.782604 -1.257395   \n",
              "1  9.304097  4.902524  3.047541  1.369357  5.067812 -1.940058 -1.872742   \n",
              "2  8.971707  8.848428  3.046479  1.214518  3.405158 -1.207456 -1.277210   \n",
              "3  0.716415  7.669600  4.486641  2.340563  3.963791 -1.027473 -1.938944   \n",
              "4  3.134112  7.608772  4.943759  9.857573  3.525811 -1.125531 -1.845975   \n",
              "\n",
              "         p4        g1        g2        g3        g4      stab     stabf  \n",
              "0 -1.723086  0.650456  0.859578  0.887445  0.958034  0.055347  unstable  \n",
              "1 -1.255012  0.413441  0.862414  0.562139  0.781760 -0.005957    stable  \n",
              "2 -0.920492  0.163041  0.766689  0.839444  0.109853  0.003471  unstable  \n",
              "3 -0.997374  0.446209  0.976744  0.929381  0.362718  0.028871  unstable  \n",
              "4 -0.554305  0.797110  0.455450  0.656947  0.820923  0.049860  unstable  "
            ],
            "text/html": [
              "\n",
              "  <div id=\"df-f95ae30d-bc92-41f2-a42f-6a270c70c79b\">\n",
              "    <div class=\"colab-df-container\">\n",
              "      <div>\n",
              "<style scoped>\n",
              "    .dataframe tbody tr th:only-of-type {\n",
              "        vertical-align: middle;\n",
              "    }\n",
              "\n",
              "    .dataframe tbody tr th {\n",
              "        vertical-align: top;\n",
              "    }\n",
              "\n",
              "    .dataframe thead th {\n",
              "        text-align: right;\n",
              "    }\n",
              "</style>\n",
              "<table border=\"1\" class=\"dataframe\">\n",
              "  <thead>\n",
              "    <tr style=\"text-align: right;\">\n",
              "      <th></th>\n",
              "      <th>tau1</th>\n",
              "      <th>tau2</th>\n",
              "      <th>tau3</th>\n",
              "      <th>tau4</th>\n",
              "      <th>p1</th>\n",
              "      <th>p2</th>\n",
              "      <th>p3</th>\n",
              "      <th>p4</th>\n",
              "      <th>g1</th>\n",
              "      <th>g2</th>\n",
              "      <th>g3</th>\n",
              "      <th>g4</th>\n",
              "      <th>stab</th>\n",
              "      <th>stabf</th>\n",
              "    </tr>\n",
              "  </thead>\n",
              "  <tbody>\n",
              "    <tr>\n",
              "      <th>0</th>\n",
              "      <td>2.959060</td>\n",
              "      <td>3.079885</td>\n",
              "      <td>8.381025</td>\n",
              "      <td>9.780754</td>\n",
              "      <td>3.763085</td>\n",
              "      <td>-0.782604</td>\n",
              "      <td>-1.257395</td>\n",
              "      <td>-1.723086</td>\n",
              "      <td>0.650456</td>\n",
              "      <td>0.859578</td>\n",
              "      <td>0.887445</td>\n",
              "      <td>0.958034</td>\n",
              "      <td>0.055347</td>\n",
              "      <td>unstable</td>\n",
              "    </tr>\n",
              "    <tr>\n",
              "      <th>1</th>\n",
              "      <td>9.304097</td>\n",
              "      <td>4.902524</td>\n",
              "      <td>3.047541</td>\n",
              "      <td>1.369357</td>\n",
              "      <td>5.067812</td>\n",
              "      <td>-1.940058</td>\n",
              "      <td>-1.872742</td>\n",
              "      <td>-1.255012</td>\n",
              "      <td>0.413441</td>\n",
              "      <td>0.862414</td>\n",
              "      <td>0.562139</td>\n",
              "      <td>0.781760</td>\n",
              "      <td>-0.005957</td>\n",
              "      <td>stable</td>\n",
              "    </tr>\n",
              "    <tr>\n",
              "      <th>2</th>\n",
              "      <td>8.971707</td>\n",
              "      <td>8.848428</td>\n",
              "      <td>3.046479</td>\n",
              "      <td>1.214518</td>\n",
              "      <td>3.405158</td>\n",
              "      <td>-1.207456</td>\n",
              "      <td>-1.277210</td>\n",
              "      <td>-0.920492</td>\n",
              "      <td>0.163041</td>\n",
              "      <td>0.766689</td>\n",
              "      <td>0.839444</td>\n",
              "      <td>0.109853</td>\n",
              "      <td>0.003471</td>\n",
              "      <td>unstable</td>\n",
              "    </tr>\n",
              "    <tr>\n",
              "      <th>3</th>\n",
              "      <td>0.716415</td>\n",
              "      <td>7.669600</td>\n",
              "      <td>4.486641</td>\n",
              "      <td>2.340563</td>\n",
              "      <td>3.963791</td>\n",
              "      <td>-1.027473</td>\n",
              "      <td>-1.938944</td>\n",
              "      <td>-0.997374</td>\n",
              "      <td>0.446209</td>\n",
              "      <td>0.976744</td>\n",
              "      <td>0.929381</td>\n",
              "      <td>0.362718</td>\n",
              "      <td>0.028871</td>\n",
              "      <td>unstable</td>\n",
              "    </tr>\n",
              "    <tr>\n",
              "      <th>4</th>\n",
              "      <td>3.134112</td>\n",
              "      <td>7.608772</td>\n",
              "      <td>4.943759</td>\n",
              "      <td>9.857573</td>\n",
              "      <td>3.525811</td>\n",
              "      <td>-1.125531</td>\n",
              "      <td>-1.845975</td>\n",
              "      <td>-0.554305</td>\n",
              "      <td>0.797110</td>\n",
              "      <td>0.455450</td>\n",
              "      <td>0.656947</td>\n",
              "      <td>0.820923</td>\n",
              "      <td>0.049860</td>\n",
              "      <td>unstable</td>\n",
              "    </tr>\n",
              "  </tbody>\n",
              "</table>\n",
              "</div>\n",
              "      <button class=\"colab-df-convert\" onclick=\"convertToInteractive('df-f95ae30d-bc92-41f2-a42f-6a270c70c79b')\"\n",
              "              title=\"Convert this dataframe to an interactive table.\"\n",
              "              style=\"display:none;\">\n",
              "        \n",
              "  <svg xmlns=\"http://www.w3.org/2000/svg\" height=\"24px\"viewBox=\"0 0 24 24\"\n",
              "       width=\"24px\">\n",
              "    <path d=\"M0 0h24v24H0V0z\" fill=\"none\"/>\n",
              "    <path d=\"M18.56 5.44l.94 2.06.94-2.06 2.06-.94-2.06-.94-.94-2.06-.94 2.06-2.06.94zm-11 1L8.5 8.5l.94-2.06 2.06-.94-2.06-.94L8.5 2.5l-.94 2.06-2.06.94zm10 10l.94 2.06.94-2.06 2.06-.94-2.06-.94-.94-2.06-.94 2.06-2.06.94z\"/><path d=\"M17.41 7.96l-1.37-1.37c-.4-.4-.92-.59-1.43-.59-.52 0-1.04.2-1.43.59L10.3 9.45l-7.72 7.72c-.78.78-.78 2.05 0 2.83L4 21.41c.39.39.9.59 1.41.59.51 0 1.02-.2 1.41-.59l7.78-7.78 2.81-2.81c.8-.78.8-2.07 0-2.86zM5.41 20L4 18.59l7.72-7.72 1.47 1.35L5.41 20z\"/>\n",
              "  </svg>\n",
              "      </button>\n",
              "      \n",
              "  <style>\n",
              "    .colab-df-container {\n",
              "      display:flex;\n",
              "      flex-wrap:wrap;\n",
              "      gap: 12px;\n",
              "    }\n",
              "\n",
              "    .colab-df-convert {\n",
              "      background-color: #E8F0FE;\n",
              "      border: none;\n",
              "      border-radius: 50%;\n",
              "      cursor: pointer;\n",
              "      display: none;\n",
              "      fill: #1967D2;\n",
              "      height: 32px;\n",
              "      padding: 0 0 0 0;\n",
              "      width: 32px;\n",
              "    }\n",
              "\n",
              "    .colab-df-convert:hover {\n",
              "      background-color: #E2EBFA;\n",
              "      box-shadow: 0px 1px 2px rgba(60, 64, 67, 0.3), 0px 1px 3px 1px rgba(60, 64, 67, 0.15);\n",
              "      fill: #174EA6;\n",
              "    }\n",
              "\n",
              "    [theme=dark] .colab-df-convert {\n",
              "      background-color: #3B4455;\n",
              "      fill: #D2E3FC;\n",
              "    }\n",
              "\n",
              "    [theme=dark] .colab-df-convert:hover {\n",
              "      background-color: #434B5C;\n",
              "      box-shadow: 0px 1px 3px 1px rgba(0, 0, 0, 0.15);\n",
              "      filter: drop-shadow(0px 1px 2px rgba(0, 0, 0, 0.3));\n",
              "      fill: #FFFFFF;\n",
              "    }\n",
              "  </style>\n",
              "\n",
              "      <script>\n",
              "        const buttonEl =\n",
              "          document.querySelector('#df-f95ae30d-bc92-41f2-a42f-6a270c70c79b button.colab-df-convert');\n",
              "        buttonEl.style.display =\n",
              "          google.colab.kernel.accessAllowed ? 'block' : 'none';\n",
              "\n",
              "        async function convertToInteractive(key) {\n",
              "          const element = document.querySelector('#df-f95ae30d-bc92-41f2-a42f-6a270c70c79b');\n",
              "          const dataTable =\n",
              "            await google.colab.kernel.invokeFunction('convertToInteractive',\n",
              "                                                     [key], {});\n",
              "          if (!dataTable) return;\n",
              "\n",
              "          const docLinkHtml = 'Like what you see? Visit the ' +\n",
              "            '<a target=\"_blank\" href=https://colab.research.google.com/notebooks/data_table.ipynb>data table notebook</a>'\n",
              "            + ' to learn more about interactive tables.';\n",
              "          element.innerHTML = '';\n",
              "          dataTable['output_type'] = 'display_data';\n",
              "          await google.colab.output.renderOutput(dataTable, element);\n",
              "          const docLink = document.createElement('div');\n",
              "          docLink.innerHTML = docLinkHtml;\n",
              "          element.appendChild(docLink);\n",
              "        }\n",
              "      </script>\n",
              "    </div>\n",
              "  </div>\n",
              "  "
            ]
          },
          "metadata": {},
          "execution_count": 24
        }
      ]
    },
    {
      "cell_type": "code",
      "source": [
        "#Checking for duplicates\n",
        "\n",
        "df.duplicated().sum()"
      ],
      "metadata": {
        "colab": {
          "base_uri": "https://localhost:8080/"
        },
        "id": "j_dNof-vHs38",
        "outputId": "60207424-9a1e-496e-cc41-27c7c4076f86"
      },
      "execution_count": 25,
      "outputs": [
        {
          "output_type": "execute_result",
          "data": {
            "text/plain": [
              "0"
            ]
          },
          "metadata": {},
          "execution_count": 25
        }
      ]
    },
    {
      "cell_type": "code",
      "source": [
        "#Checking for null values\n",
        "\n",
        "df.isna().sum()"
      ],
      "metadata": {
        "colab": {
          "base_uri": "https://localhost:8080/"
        },
        "id": "NJxFDvewH9GM",
        "outputId": "a6c51994-13e2-4093-d32f-1d41b72e43ff"
      },
      "execution_count": 26,
      "outputs": [
        {
          "output_type": "execute_result",
          "data": {
            "text/plain": [
              "tau1     0\n",
              "tau2     0\n",
              "tau3     0\n",
              "tau4     0\n",
              "p1       0\n",
              "p2       0\n",
              "p3       0\n",
              "p4       0\n",
              "g1       0\n",
              "g2       0\n",
              "g3       0\n",
              "g4       0\n",
              "stab     0\n",
              "stabf    0\n",
              "dtype: int64"
            ]
          },
          "metadata": {},
          "execution_count": 26
        }
      ]
    },
    {
      "cell_type": "code",
      "source": [
        "#Checking for incorrect string values\n",
        "\n",
        "df['stabf'].unique()"
      ],
      "metadata": {
        "colab": {
          "base_uri": "https://localhost:8080/"
        },
        "id": "uuGCgAAPH_3M",
        "outputId": "e2b56be5-734c-4a3b-d8b2-9e2a14746060"
      },
      "execution_count": 27,
      "outputs": [
        {
          "output_type": "execute_result",
          "data": {
            "text/plain": [
              "array(['unstable', 'stable'], dtype=object)"
            ]
          },
          "metadata": {},
          "execution_count": 27
        }
      ]
    },
    {
      "cell_type": "code",
      "source": [
        "#checking data types are all correct\n",
        "\n",
        "df.dtypes"
      ],
      "metadata": {
        "colab": {
          "base_uri": "https://localhost:8080/"
        },
        "id": "I1v9Lji8Ic4J",
        "outputId": "b1648bd7-c666-49c2-e505-53b8d50663cf"
      },
      "execution_count": 28,
      "outputs": [
        {
          "output_type": "execute_result",
          "data": {
            "text/plain": [
              "tau1     float64\n",
              "tau2     float64\n",
              "tau3     float64\n",
              "tau4     float64\n",
              "p1       float64\n",
              "p2       float64\n",
              "p3       float64\n",
              "p4       float64\n",
              "g1       float64\n",
              "g2       float64\n",
              "g3       float64\n",
              "g4       float64\n",
              "stab     float64\n",
              "stabf     object\n",
              "dtype: object"
            ]
          },
          "metadata": {},
          "execution_count": 28
        }
      ]
    },
    {
      "cell_type": "code",
      "source": [
        "#Iterating through numerical columns to browse for unnatural numbers\n",
        "\n",
        "for (columnName, columnData) in df.iteritems():\n",
        "  if columnData.dtype == 'float':\n",
        "    print('Column Name : ', columnName)\n",
        "    print('Column Contents : ', columnData.describe())\n",
        "    print('\\n\\n')"
      ],
      "metadata": {
        "colab": {
          "base_uri": "https://localhost:8080/"
        },
        "id": "FjHjC65qIGLl",
        "outputId": "a85379a8-e2d8-48bb-9a50-5d34a1f95139"
      },
      "execution_count": 29,
      "outputs": [
        {
          "output_type": "stream",
          "name": "stdout",
          "text": [
            "Column Name :  tau1\n",
            "Column Contents :  count    10000.000000\n",
            "mean         5.250000\n",
            "std          2.742548\n",
            "min          0.500793\n",
            "25%          2.874892\n",
            "50%          5.250004\n",
            "75%          7.624690\n",
            "max          9.999469\n",
            "Name: tau1, dtype: float64\n",
            "\n",
            "\n",
            "\n",
            "Column Name :  tau2\n",
            "Column Contents :  count    10000.000000\n",
            "mean         5.250001\n",
            "std          2.742549\n",
            "min          0.500141\n",
            "25%          2.875140\n",
            "50%          5.249981\n",
            "75%          7.624893\n",
            "max          9.999837\n",
            "Name: tau2, dtype: float64\n",
            "\n",
            "\n",
            "\n",
            "Column Name :  tau3\n",
            "Column Contents :  count    10000.000000\n",
            "mean         5.250004\n",
            "std          2.742549\n",
            "min          0.500788\n",
            "25%          2.875522\n",
            "50%          5.249979\n",
            "75%          7.624948\n",
            "max          9.999450\n",
            "Name: tau3, dtype: float64\n",
            "\n",
            "\n",
            "\n",
            "Column Name :  tau4\n",
            "Column Contents :  count    10000.000000\n",
            "mean         5.249997\n",
            "std          2.742556\n",
            "min          0.500473\n",
            "25%          2.874950\n",
            "50%          5.249734\n",
            "75%          7.624838\n",
            "max          9.999443\n",
            "Name: tau4, dtype: float64\n",
            "\n",
            "\n",
            "\n",
            "Column Name :  p1\n",
            "Column Contents :  count    10000.000000\n",
            "mean         3.750000\n",
            "std          0.752160\n",
            "min          1.582590\n",
            "25%          3.218300\n",
            "50%          3.751025\n",
            "75%          4.282420\n",
            "max          5.864418\n",
            "Name: p1, dtype: float64\n",
            "\n",
            "\n",
            "\n",
            "Column Name :  p2\n",
            "Column Contents :  count    10000.000000\n",
            "mean        -1.250000\n",
            "std          0.433035\n",
            "min         -1.999891\n",
            "25%         -1.624901\n",
            "50%         -1.249966\n",
            "75%         -0.874977\n",
            "max         -0.500108\n",
            "Name: p2, dtype: float64\n",
            "\n",
            "\n",
            "\n",
            "Column Name :  p3\n",
            "Column Contents :  count    10000.000000\n",
            "mean        -1.250000\n",
            "std          0.433035\n",
            "min         -1.999945\n",
            "25%         -1.625025\n",
            "50%         -1.249974\n",
            "75%         -0.875043\n",
            "max         -0.500072\n",
            "Name: p3, dtype: float64\n",
            "\n",
            "\n",
            "\n",
            "Column Name :  p4\n",
            "Column Contents :  count    10000.000000\n",
            "mean        -1.250000\n",
            "std          0.433035\n",
            "min         -1.999926\n",
            "25%         -1.624960\n",
            "50%         -1.250007\n",
            "75%         -0.875065\n",
            "max         -0.500025\n",
            "Name: p4, dtype: float64\n",
            "\n",
            "\n",
            "\n",
            "Column Name :  g1\n",
            "Column Contents :  count    10000.000000\n",
            "mean         0.525000\n",
            "std          0.274256\n",
            "min          0.050009\n",
            "25%          0.287521\n",
            "50%          0.525009\n",
            "75%          0.762435\n",
            "max          0.999937\n",
            "Name: g1, dtype: float64\n",
            "\n",
            "\n",
            "\n",
            "Column Name :  g2\n",
            "Column Contents :  count    10000.000000\n",
            "mean         0.525000\n",
            "std          0.274255\n",
            "min          0.050053\n",
            "25%          0.287552\n",
            "50%          0.525003\n",
            "75%          0.762490\n",
            "max          0.999944\n",
            "Name: g2, dtype: float64\n",
            "\n",
            "\n",
            "\n",
            "Column Name :  g3\n",
            "Column Contents :  count    10000.000000\n",
            "mean         0.525000\n",
            "std          0.274255\n",
            "min          0.050054\n",
            "25%          0.287514\n",
            "50%          0.525015\n",
            "75%          0.762440\n",
            "max          0.999982\n",
            "Name: g3, dtype: float64\n",
            "\n",
            "\n",
            "\n",
            "Column Name :  g4\n",
            "Column Contents :  count    10000.000000\n",
            "mean         0.525000\n",
            "std          0.274255\n",
            "min          0.050028\n",
            "25%          0.287494\n",
            "50%          0.525002\n",
            "75%          0.762433\n",
            "max          0.999930\n",
            "Name: g4, dtype: float64\n",
            "\n",
            "\n",
            "\n",
            "Column Name :  stab\n",
            "Column Contents :  count    10000.000000\n",
            "mean         0.015731\n",
            "std          0.036919\n",
            "min         -0.080760\n",
            "25%         -0.015557\n",
            "50%          0.017142\n",
            "75%          0.044878\n",
            "max          0.109403\n",
            "Name: stab, dtype: float64\n",
            "\n",
            "\n",
            "\n"
          ]
        }
      ]
    },
    {
      "cell_type": "code",
      "source": [
        "#Create a heatmap table to check for correlations between all the features\n",
        "\n",
        "corr = df.corr()\n",
        "fig = plt.figure(figsize = (15,10))\n",
        "ax = sns.heatmap(corr, vmin=0, vmax=1, annot=True, cmap=\"YlGnBu\")"
      ],
      "metadata": {
        "colab": {
          "base_uri": "https://localhost:8080/",
          "height": 596
        },
        "id": "-V-9gJlHbAC7",
        "outputId": "a526bdd6-5957-42a6-9756-acd49e8ce003"
      },
      "execution_count": 72,
      "outputs": [
        {
          "output_type": "display_data",
          "data": {
            "text/plain": [
              "<Figure size 1080x720 with 2 Axes>"
            ],
            "image/png": "[encoded data removed]"
          },
          "metadata": {
            "needs_background": "light"
          }
        }
      ]
    },
    {
      "cell_type": "code",
      "source": [
        "#Create a boxplot to check for outliers\n",
        "\n",
        "df.plot(kind = 'box')\n"
      ],
      "metadata": {
        "colab": {
          "base_uri": "https://localhost:8080/",
          "height": 282
        },
        "id": "6WX6BtUxI0Kb",
        "outputId": "1c48cdc8-cb77-4ee2-c4ba-4e94597a0ace"
      },
      "execution_count": 58,
      "outputs": [
        {
          "output_type": "execute_result",
          "data": {
            "text/plain": [
              "<matplotlib.axes._subplots.AxesSubplot at 0x7f642d7a4850>"
            ]
          },
          "metadata": {},
          "execution_count": 58
        },
        {
          "output_type": "display_data",
          "data": {
            "text/plain": [
              "<Figure size 432x288 with 1 Axes>"
            ],
            "image/png": "[encoded data removed]"
          },
          "metadata": {
            "needs_background": "light"
          }
        }
      ]
    },
    {
      "cell_type": "code",
      "source": [
        ""
      ],
      "metadata": {
        "id": "AFhpEn3vOHBn"
      },
      "execution_count": 31,
      "outputs": []
    }
  ]
}